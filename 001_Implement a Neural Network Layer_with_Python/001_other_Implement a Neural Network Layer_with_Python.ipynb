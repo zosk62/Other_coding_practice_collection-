{
 "cells": [
  {
   "cell_type": "markdown",
   "id": "d6848b76-65bd-4d15-85f2-4b89848a4f09",
   "metadata": {},
   "source": [
    "- Problem Statement: Implement a Neural Network Layer\r\n",
    "\r\n",
    "Your task is to implement a simple neural network layer using Python and NumPy. The layer should be capable of performing the forward pass computation, which involves calculating the output of the layer given input data, weights, and biases.\r\n",
    "\r\n",
    "Instructions:\r\n",
    "\r\n",
    "Implement a Python class called Layer_Dense representing a single layer in a neural network.\r\n",
    "The class should have:\r\n",
    "A constructor (__init__ method) taking two parameters: n_inputs (number of input features) and n_neurons (number of neurons in the layer).\r\n",
    "Initialize the weights randomly and the biases to zeros in the constructor.\r\n",
    "Implement a forward method that takes inputs as a parameter and computes the output of the layer using matrix multiplication between the inputs, weights, and biases.\r\n",
    "Test your implementation:\r\n",
    "Create an instance of Layer_Dense with appropriate input and neuron dimensions.\r\n",
    "Provide input data (a 2D array) to the layer.\r\n",
    "Call the forward method to compute the output of the layer.\r\n",
    "Print the output and biases of the layer."
   ]
  },
  {
   "cell_type": "code",
   "execution_count": 3,
   "id": "d77803fe-66bc-481d-b208-e3efc3923cbb",
   "metadata": {},
   "outputs": [
    {
     "name": "stdout",
     "output_type": "stream",
     "text": [
      "[[ 0.10758131  1.03983522  0.24462411  0.31821498  0.18851053]\n",
      " [-0.08349796  0.70846411  0.00293357  0.44701525  0.36360538]\n",
      " [-0.50763245  0.55688422  0.07987797 -0.34889573  0.04553042]]\n",
      "----\n",
      "[[ 0.148296   -0.08397602]\n",
      " [ 0.14100315 -0.01340469]\n",
      " [ 0.20124979 -0.07290616]]\n"
     ]
    }
   ],
   "source": [
    "import numpy as np\n",
    "np.random.seed(0)\n",
    "\n",
    "X=[[1, 2, 3, 2.5],\n",
    "   [2, 5, -1, 2],\n",
    "   [-1.5, 2.7, 3.3, -0.8]]\n",
    "\n",
    "class Layer_Dense:\n",
    "  def __init__(self, n_inputs, n_neurons):\n",
    "    self.weights = 0.1*np.random.randn(n_inputs, n_neurons)\n",
    "    self.biases = np.zeros((1, n_neurons))\n",
    "  def forward(self, inputs):\n",
    "    self.output = np.dot(inputs, self.weights) + self.biases \n",
    "\n",
    "layer1= Layer_Dense(4, 5)  # (input_feature , anyoutputshape1)\n",
    "layer2= Layer_Dense(5, 2)  # (anyoutputshape1 , anyoutputshape2)\n",
    "\n",
    "layer1.forward(X)\n",
    "print(layer1.output)\n",
    "layer2.forward(layer1.output)\n",
    "print(\"----\")\n",
    "print(layer2.output)\n"
   ]
  },
  {
   "cell_type": "code",
   "execution_count": null,
   "id": "41eda7b3-9227-4949-beac-76c02473131c",
   "metadata": {},
   "outputs": [],
   "source": []
  }
 ],
 "metadata": {
  "kernelspec": {
   "display_name": "portf01_kernel",
   "language": "python",
   "name": "portf01"
  },
  "language_info": {
   "codemirror_mode": {
    "name": "ipython",
    "version": 3
   },
   "file_extension": ".py",
   "mimetype": "text/x-python",
   "name": "python",
   "nbconvert_exporter": "python",
   "pygments_lexer": "ipython3",
   "version": "3.9.18"
  }
 },
 "nbformat": 4,
 "nbformat_minor": 5
}
